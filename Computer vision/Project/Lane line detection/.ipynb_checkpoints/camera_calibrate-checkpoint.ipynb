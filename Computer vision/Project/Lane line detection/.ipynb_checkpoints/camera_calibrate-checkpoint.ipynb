{
 "cells": [
  {
   "cell_type": "code",
   "execution_count": 33,
   "metadata": {},
   "outputs": [
    {
     "name": "stdout",
     "output_type": "stream",
     "text": [
      "Warning: ret = False for camera_cal_pic\\calibration1.jpg\n",
      "Warning: ret = False for camera_cal_pic\\calibration4.jpg\n",
      "Warning: ret = False for camera_cal_pic\\calibration5.jpg\n"
     ]
    },
    {
     "data": {
      "text/plain": [
       "\"\\nimg2 = cv2.imread('./camera_cal_pic/calibration1.jpg')\\ndst = cv2.undistort(img2, mtx, dist, None, None)\\ncv2.imwrite('./camera_cal_pic_undistort/calibration1_undistort.jpg',dst)\\n\""
      ]
     },
     "execution_count": 33,
     "metadata": {},
     "output_type": "execute_result"
    }
   ],
   "source": [
    "#coding:utf-8\n",
    "import cv2\n",
    "import numpy as np\n",
    "import glob\n",
    "import os\n",
    "\n",
    "#棋盘格模板规格\n",
    "w, h = 9, 6\n",
    "#世界坐标系中的棋盘格点,例如(0,0,0), (1,0,0), (2,0,0) ....,(8,5,0)，去掉Z坐标，记为二维矩阵\n",
    "objp = np.zeros((w*h,3), np.float32)\n",
    "objp[:,:2] = np.mgrid[0:w,0:h].T.reshape(-1, 2)\n",
    "# 储存棋盘格角点的世界坐标和图像坐标对\n",
    "objpoints = [] # 在世界坐标系中的三维点\n",
    "imgpoints = [] # 在图像平面的二维点\n",
    "\n",
    "images = glob.glob('camera_cal_pic/calibration*')\n",
    "for fname in images:\n",
    "    img = cv2.imread(fname)\n",
    "    gray = cv2.cvtColor(img,cv2.COLOR_BGR2GRAY)\n",
    "    # 找到棋盘格角点\n",
    "    ret, corners = cv2.findChessboardCorners(gray, (w,h))\n",
    "    # 如果找到足够点对，将其存储起来\n",
    "    if ret == True:\n",
    "        objpoints.append(objp)\n",
    "        #利用cv2.cornerSubPix可以更精细的查找角点坐标，如果查找到了，用这个，没查找到用cv2.findChessboardCorners中找到的角点\n",
    "        corners2 = cv2.cornerSubPix(gray,corners,(11,11),(-1,-1),criteria = (cv2.TERM_CRITERIA_EPS + cv2.TERM_CRITERIA_MAX_ITER, 30, 0.001))\n",
    "        if corners2.any():\n",
    "                imgpoints.append(corners2)\n",
    "        else:\n",
    "                imgpoints.append(corners)\n",
    "        # 将角点在图像上显示\n",
    "        #cv2.drawChessboardCorners(img, (w,h), corners, ret)\n",
    "        #cv2.imshow('findCorners',img)\n",
    "        #cv2.waitKey(0)\n",
    "    else:\n",
    "        print('Warning: ret = %s for %s' % (ret, fname))\n",
    "cv2.destroyAllWindows()\n",
    "\n",
    "#利用图像中2d点和空间3d点计算旋转和平移矩阵，函数使用cv2.calibrateCamera，返回mtx（相机内参矩阵）, dist（畸变矩阵）\n",
    "ret, mtx, dist, rvecs, tvecs = cv2.calibrateCamera(objpoints, imgpoints, gray.shape[::-1], None, None)\n",
    "\n",
    "#图像去畸变\n",
    "test_images = glob.glob(\"testImage/test*\")\n",
    "for per in test_images:\n",
    "    test_image = cv2.imread(per)\n",
    "    dir, name = os.path.split(per)\n",
    "    dst = cv2.undistort(test_image, mtx, dist, None, None)\n",
    "    cv2.imwrite('test_image_undistort/' + name, dst)"
   ]
  },
  {
   "cell_type": "code",
   "execution_count": null,
   "metadata": {
    "collapsed": true
   },
   "outputs": [],
   "source": []
  }
 ],
 "metadata": {
  "kernelspec": {
   "display_name": "Python [default]",
   "language": "python",
   "name": "python3"
  },
  "language_info": {
   "codemirror_mode": {
    "name": "ipython",
    "version": 3
   },
   "file_extension": ".py",
   "mimetype": "text/x-python",
   "name": "python",
   "nbconvert_exporter": "python",
   "pygments_lexer": "ipython3",
   "version": "3.6.10"
  }
 },
 "nbformat": 4,
 "nbformat_minor": 4
}
