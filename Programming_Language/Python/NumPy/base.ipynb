{
 "cells": [
  {
   "cell_type": "markdown",
   "metadata": {},
   "source": [
    "## A、NumPy的ndarray:一种多维数组对象"
   ]
  },
  {
   "cell_type": "code",
   "execution_count": 2,
   "metadata": {},
   "outputs": [
    {
     "name": "stdout",
     "output_type": "stream",
     "text": [
      "[[ 0.2980714   0.11832336 -0.26738158]\n",
      " [ 0.65831546  0.33080115  0.16616952]]\n",
      "data * 10: \n",
      " [[ 2.98071402  1.1832336  -2.67381584]\n",
      " [ 6.58315461  3.30801151  1.66169521]]\n"
     ]
    }
   ],
   "source": [
    "import numpy as np\n",
    "\n",
    "data = np.random.randn(2, 3)\n",
    "print(data)\n",
    "#所有元素都乘以10\n",
    "print('data * 10: \\n', data * 10)"
   ]
  },
  {
   "cell_type": "markdown",
   "metadata": {},
   "source": [
    "### a、创建数组"
   ]
  },
  {
   "cell_type": "markdown",
   "metadata": {},
   "source": [
    "array:将python对象(list/tuple)转化为数组"
   ]
  },
  {
   "cell_type": "code",
   "execution_count": 3,
   "metadata": {},
   "outputs": [
    {
     "name": "stdout",
     "output_type": "stream",
     "text": [
      "[[0, 1, 2, 3], [0, 1, 2, 3]]\n",
      "[[0 1 2 3]\n",
      " [0 1 2 3]]\n",
      "2\n",
      "(2, 4)\n"
     ]
    }
   ],
   "source": [
    "list_0 = list(range(4))\n",
    "list_1 = [list_0] * 2\n",
    "print(list_1)\n",
    "arr_0 = np.array(list_1)\n",
    "print(arr_0)\n",
    "print(arr_0.ndim)\n",
    "print(arr_0.shape)"
   ]
  },
  {
   "cell_type": "markdown",
   "metadata": {},
   "source": [
    "np.array会尝试为新建的数组推断出一个较为合适的数据类型，数据类型保存在一个特殊的dtype对象中"
   ]
  },
  {
   "cell_type": "code",
   "execution_count": 4,
   "metadata": {},
   "outputs": [
    {
     "name": "stdout",
     "output_type": "stream",
     "text": [
      "float64\n"
     ]
    }
   ],
   "source": [
    "list_2 = [1, 3, 1.5]\n",
    "arr_1 = np.array(list_2)\n",
    "print(arr_1.dtype)"
   ]
  },
  {
   "cell_type": "markdown",
   "metadata": {},
   "source": [
    "empty()：分配指定大小的数组，未初始化 ，随机填充值(元组形式输入shape)"
   ]
  },
  {
   "cell_type": "code",
   "execution_count": 8,
   "metadata": {},
   "outputs": [
    {
     "name": "stdout",
     "output_type": "stream",
     "text": [
      "[[1.46987566e-311 4.94065646e-324]\n",
      " [0.00000000e+000 0.00000000e+000]]\n"
     ]
    }
   ],
   "source": [
    "print(np.empty((2,2)))"
   ]
  },
  {
   "cell_type": "markdown",
   "metadata": {},
   "source": [
    "zeros(), ones()：创建全为0或1的数组"
   ]
  },
  {
   "cell_type": "code",
   "execution_count": 9,
   "metadata": {},
   "outputs": [
    {
     "name": "stdout",
     "output_type": "stream",
     "text": [
      "[[0. 0. 0.]\n",
      " [0. 0. 0.]]\n",
      "[[1. 1.]\n",
      " [1. 1.]]\n"
     ]
    }
   ],
   "source": [
    "arr_0s = np.zeros((2,3))\n",
    "arr_1s = np.ones((2,2))\n",
    "print(arr_0s)\n",
    "print(arr_1s)"
   ]
  },
  {
   "cell_type": "markdown",
   "metadata": {},
   "source": [
    "### b、ndarray的数据类型"
   ]
  },
  {
   "cell_type": "markdown",
   "metadata": {},
   "source": [
    "ndarry基本数据类型"
   ]
  },
  {
   "cell_type": "code",
   "execution_count": 10,
   "metadata": {},
   "outputs": [
    {
     "name": "stdout",
     "output_type": "stream",
     "text": [
      "{<class 'numpy.uint32'>, <class 'numpy.str_'>, <class 'numpy.datetime64'>, <class 'numpy.float32'>, <class 'numpy.bool_'>, <class 'numpy.float64'>, <class 'numpy.clongdouble'>, <class 'numpy.float16'>, <class 'numpy.bytes_'>, <class 'numpy.uint16'>, <class 'numpy.complex64'>, <class 'numpy.complex128'>, <class 'numpy.timedelta64'>, <class 'numpy.int32'>, <class 'numpy.uint8'>, <class 'numpy.longdouble'>, <class 'numpy.void'>, <class 'numpy.int64'>, <class 'numpy.uintc'>, <class 'numpy.object_'>, <class 'numpy.int8'>, <class 'numpy.intc'>, <class 'numpy.uint64'>, <class 'numpy.int16'>}\n"
     ]
    }
   ],
   "source": [
    "print(set(np.typeDict.values()))"
   ]
  },
  {
   "cell_type": "markdown",
   "metadata": {},
   "source": [
    "指定数据类型--dtype"
   ]
  },
  {
   "cell_type": "code",
   "execution_count": 14,
   "metadata": {},
   "outputs": [
    {
     "data": {
      "text/plain": [
       "array([0.+0.j, 1.+0.j, 2.+0.j, 3.+0.j, 4.+0.j, 5.+0.j, 6.+0.j, 7.+0.j,\n",
       "       8.+0.j, 9.+0.j], dtype=complex64)"
      ]
     },
     "execution_count": 14,
     "metadata": {},
     "output_type": "execute_result"
    }
   ],
   "source": [
    "np.array(range(10),dtype = 'c8')"
   ]
  },
  {
   "cell_type": "code",
   "execution_count": 15,
   "metadata": {},
   "outputs": [
    {
     "data": {
      "text/plain": [
       "array([0., 1., 2., 3., 4., 5., 6., 7., 8., 9.], dtype=float32)"
      ]
     },
     "execution_count": 15,
     "metadata": {},
     "output_type": "execute_result"
    }
   ],
   "source": [
    "np.array(range(10),dtype = 'f4')"
   ]
  },
  {
   "cell_type": "code",
   "execution_count": 18,
   "metadata": {},
   "outputs": [
    {
     "data": {
      "text/plain": [
       "array([-1,  0,  1,  2,  3], dtype=int8)"
      ]
     },
     "execution_count": 18,
     "metadata": {},
     "output_type": "execute_result"
    }
   ],
   "source": [
    "np.array(range(255,260), dtype = 'i1')"
   ]
  },
  {
   "cell_type": "code",
   "execution_count": 17,
   "metadata": {},
   "outputs": [
    {
     "data": {
      "text/plain": [
       "array([255, 256, 257, 258, 259], dtype=int16)"
      ]
     },
     "execution_count": 17,
     "metadata": {},
     "output_type": "execute_result"
    }
   ],
   "source": [
    "np.array(range(255,260), dtype = 'i2')"
   ]
  },
  {
   "cell_type": "markdown",
   "metadata": {},
   "source": [
    "转换数据类型--arr.astype(dtype)"
   ]
  },
  {
   "cell_type": "code",
   "execution_count": 19,
   "metadata": {},
   "outputs": [
    {
     "name": "stdout",
     "output_type": "stream",
     "text": [
      "[0 1 2 3 4] int32\n",
      "[0. 1. 2. 3. 4.] float64\n"
     ]
    }
   ],
   "source": [
    "arr_4 = np.array(range(5))\n",
    "print(arr_4,arr_4.dtype)\n",
    "float_arr4 = arr_4.astype('f8')\n",
    "print(float_arr4,float_arr4.dtype)"
   ]
  },
  {
   "cell_type": "markdown",
   "metadata": {},
   "source": [
    "将浮点数转换成整数，则小数部分将会被截取删除"
   ]
  },
  {
   "cell_type": "code",
   "execution_count": 20,
   "metadata": {},
   "outputs": [
    {
     "name": "stdout",
     "output_type": "stream",
     "text": [
      "[0.  1.1 2.2 3.3 4.4] float64\n",
      "[0 1 2 3 4] int32\n"
     ]
    }
   ],
   "source": [
    "arr_5 = arr_4 + arr_4/10\n",
    "print(arr_5,arr_5.dtype)\n",
    "int_arr5 = arr_5.astype('i4')\n",
    "print(int_arr5, int_arr5.dtype)"
   ]
  },
  {
   "cell_type": "markdown",
   "metadata": {},
   "source": [
    "如果某字符串数组表示的全是数字，也可以用astype将其转换为数值形式"
   ]
  },
  {
   "cell_type": "code",
   "execution_count": 21,
   "metadata": {},
   "outputs": [
    {
     "name": "stdout",
     "output_type": "stream",
     "text": [
      "[b'1.25' b'-9.6' b'42'] |S4\n",
      "[ 1.25 -9.6  42.  ] float64\n"
     ]
    }
   ],
   "source": [
    "arr_strs = np.array(['1.25', '-9.6', '42'], dtype=np.string_)\n",
    "print(arr_strs,arr_strs.dtype)\n",
    "float_arr_strs = arr_strs.astype(float)\n",
    "print(float_arr_strs,float_arr_strs.dtype)"
   ]
  },
  {
   "cell_type": "markdown",
   "metadata": {},
   "source": [
    "### c、数组形状操作"
   ]
  },
  {
   "cell_type": "markdown",
   "metadata": {},
   "source": [
    "使用reshape，有返回值"
   ]
  },
  {
   "cell_type": "code",
   "execution_count": 22,
   "metadata": {},
   "outputs": [
    {
     "name": "stdout",
     "output_type": "stream",
     "text": [
      "[0 1 2 3 4 5 6 7 8]\n",
      "[[0 1 2]\n",
      " [3 4 5]\n",
      " [6 7 8]]\n"
     ]
    }
   ],
   "source": [
    "arr_5 = np.array(range(9))\n",
    "print(arr_5)\n",
    "reshape_arr5 = arr_5.reshape((3,3))\n",
    "print(reshape_arr5)"
   ]
  },
  {
   "cell_type": "markdown",
   "metadata": {},
   "source": [
    "这里改变arr_5的值，reshape_arr5的值也会跟着变，反过来改变reshape_arr5的值，arr_5同样也跟着变"
   ]
  },
  {
   "cell_type": "code",
   "execution_count": 23,
   "metadata": {},
   "outputs": [
    {
     "name": "stdout",
     "output_type": "stream",
     "text": [
      "arr_5:\n",
      " [99  1  2  3  4  5  6  7  8]\n",
      "reshape_arr5:\n",
      " [[99  1  2]\n",
      " [ 3  4  5]\n",
      " [ 6  7  8]]\n"
     ]
    }
   ],
   "source": [
    "arr_5[0] = 99\n",
    "print('arr_5:\\n',arr_5)\n",
    "print('reshape_arr5:\\n',reshape_arr5)"
   ]
  },
  {
   "cell_type": "markdown",
   "metadata": {},
   "source": [
    "-1代表的维度的取值需要根据数组的长度和其他维度来共同确认"
   ]
  },
  {
   "cell_type": "code",
   "execution_count": 24,
   "metadata": {},
   "outputs": [
    {
     "data": {
      "text/plain": [
       "array([[99,  1,  2],\n",
       "       [ 3,  4,  5],\n",
       "       [ 6,  7,  8]])"
      ]
     },
     "execution_count": 24,
     "metadata": {},
     "output_type": "execute_result"
    }
   ],
   "source": [
    "reshape_arr5.reshape((-1,3))"
   ]
  },
  {
   "cell_type": "markdown",
   "metadata": {},
   "source": [
    "shape 数组本身改变"
   ]
  },
  {
   "cell_type": "code",
   "execution_count": 25,
   "metadata": {},
   "outputs": [
    {
     "name": "stdout",
     "output_type": "stream",
     "text": [
      "[0 1 2 3 4 5 6 7 8]\n",
      "[[0 1 2]\n",
      " [3 4 5]\n",
      " [6 7 8]]\n"
     ]
    }
   ],
   "source": [
    "arr_5 = np.array(range(9))\n",
    "print(arr_5)\n",
    "arr_5.shape = (3,3)\n",
    "print(arr_5)"
   ]
  },
  {
   "cell_type": "markdown",
   "metadata": {},
   "source": [
    "使用resize，但是没有返回值"
   ]
  },
  {
   "cell_type": "code",
   "execution_count": 26,
   "metadata": {},
   "outputs": [
    {
     "name": "stdout",
     "output_type": "stream",
     "text": [
      "arr_5:\n",
      " [0 1 2 3 4 5 6 7 8]\n",
      "resize_arr5:\n",
      " None\n"
     ]
    }
   ],
   "source": [
    "arr_5 = np.array(range(9))\n",
    "print('arr_5:\\n',arr_5)\n",
    "resize_arr5 = arr_5.resize(3,3)\n",
    "print('resize_arr5:\\n',resize_arr5)"
   ]
  },
  {
   "cell_type": "markdown",
   "metadata": {},
   "source": [
    "ravel 扁平化"
   ]
  },
  {
   "cell_type": "markdown",
   "metadata": {},
   "source": [
    "同样，改变arr_5也会改变revel_arr5，反之亦然"
   ]
  },
  {
   "cell_type": "code",
   "execution_count": 28,
   "metadata": {},
   "outputs": [
    {
     "name": "stdout",
     "output_type": "stream",
     "text": [
      "arr_5:\n",
      " [[0 1 2]\n",
      " [3 4 5]\n",
      " [6 7 8]]\n",
      "ravel_arr5:\n",
      " [0 1 2 3 4 5 6 7 8]\n"
     ]
    }
   ],
   "source": [
    "arr_5 = np.array(range(9))\n",
    "arr_5.shape = (3,3)\n",
    "print('arr_5:\\n',arr_5)\n",
    "ravel_arr5 = arr_5.ravel()\n",
    "print('ravel_arr5:\\n', ravel_arr5)"
   ]
  },
  {
   "cell_type": "markdown",
   "metadata": {},
   "source": [
    "flatten 扁平化"
   ]
  },
  {
   "cell_type": "code",
   "execution_count": 30,
   "metadata": {
    "collapsed": true
   },
   "outputs": [],
   "source": [
    "#跟ravel的作用一样，但不同的是新创建出来的数组与原数组改变时，互不影响\n",
    "flatten_arr5 = arr_5.flatten()"
   ]
  },
  {
   "cell_type": "markdown",
   "metadata": {},
   "source": [
    "### d、NunPy数组的运算"
   ]
  },
  {
   "cell_type": "code",
   "execution_count": 31,
   "metadata": {},
   "outputs": [
    {
     "name": "stdout",
     "output_type": "stream",
     "text": [
      "arr_5:\n",
      " [[0 1 2]\n",
      " [3 4 5]\n",
      " [6 7 8]]\n",
      "arr_5 * arr_5:\n",
      " [[ 0  1  4]\n",
      " [ 9 16 25]\n",
      " [36 49 64]]\n"
     ]
    }
   ],
   "source": [
    "arr_5 = np.array(range(9))\n",
    "arr_5.shape = (3,3)\n",
    "print('arr_5:\\n',arr_5)\n",
    "print('arr_5 * arr_5:\\n',arr_5 * arr_5)"
   ]
  },
  {
   "cell_type": "markdown",
   "metadata": {},
   "source": [
    "数组与标量的算术运算会将标量值传播到各个元素 + - * / // % **"
   ]
  },
  {
   "cell_type": "code",
   "execution_count": 32,
   "metadata": {},
   "outputs": [
    {
     "name": "stdout",
     "output_type": "stream",
     "text": [
      "arr_5:\n",
      " [[0 1 2]\n",
      " [3 4 5]\n",
      " [6 7 8]]\n",
      "arr_5+3:\n",
      " [[ 3  4  5]\n",
      " [ 6  7  8]\n",
      " [ 9 10 11]]\n"
     ]
    }
   ],
   "source": [
    "arr_5 = np.array(range(9))\n",
    "arr_5.shape = (3,3)\n",
    "print('arr_5:\\n',arr_5)\n",
    "print('arr_5+3:\\n',arr_5+3)"
   ]
  },
  {
   "cell_type": "markdown",
   "metadata": {},
   "source": [
    "shape相同的数组之间的比较会生成布尔值数组"
   ]
  },
  {
   "cell_type": "code",
   "execution_count": 33,
   "metadata": {},
   "outputs": [
    {
     "name": "stdout",
     "output_type": "stream",
     "text": [
      "arr_5:\n",
      " [[0 1 2]\n",
      " [3 4 5]\n",
      " [6 7 8]]\n",
      "arr_5%3:\n",
      " [[0 1 2]\n",
      " [0 1 2]\n",
      " [0 1 2]]\n",
      "判断arr_5 == arr_5%3:\n",
      " [[ True  True  True]\n",
      " [False False False]\n",
      " [False False False]]\n"
     ]
    }
   ],
   "source": [
    "arr_5 = np.array(range(9))\n",
    "arr_5.shape = (3,3)\n",
    "print('arr_5:\\n',arr_5)\n",
    "print('arr_5%3:\\n',arr_5%3)\n",
    "print('判断arr_5 == arr_5%3:\\n',arr_5 == arr_5%3)"
   ]
  },
  {
   "cell_type": "markdown",
   "metadata": {},
   "source": [
    "### e、数组的广播(broadcast)"
   ]
  },
  {
   "cell_type": "code",
   "execution_count": 34,
   "metadata": {},
   "outputs": [
    {
     "name": "stdout",
     "output_type": "stream",
     "text": [
      "数组a：\n",
      " [[ 0.  0.  0.]\n",
      " [10. 10. 10.]\n",
      " [20. 20. 20.]\n",
      " [30. 30. 30.]]\n",
      "数组b：\n",
      " [1. 2. 3.]\n",
      "数组a加数组b：\n",
      " [[ 1.  2.  3.]\n",
      " [11. 12. 13.]\n",
      " [21. 22. 23.]\n",
      " [31. 32. 33.]]\n"
     ]
    }
   ],
   "source": [
    "a = np.array([[0.0,0.0,0.0],[10.0,10.0,10.0],[20.0,20.0,20.0],[30.0,30.0,30.0]]) \n",
    "b = np.array([1.0,2.0,3.0],)  \n",
    "print ('数组a：\\n',a)  \n",
    "print ('数组b：\\n',b)  \n",
    "print ('数组a加数组b：\\n',a+b)  "
   ]
  },
  {
   "cell_type": "markdown",
   "metadata": {},
   "source": [
    "### f、索引和切片"
   ]
  },
  {
   "cell_type": "markdown",
   "metadata": {},
   "source": [
    "一维数组：类似列表；\n",
    "跟列表最重要的区别在于，数组切片是原始数组的视图。这意味着数据不会被复制，视图上的任何修改都会直接反映到源数组上"
   ]
  },
  {
   "cell_type": "code",
   "execution_count": 35,
   "metadata": {},
   "outputs": [
    {
     "name": "stdout",
     "output_type": "stream",
     "text": [
      "arr:\n",
      " [0 1 2 3 4 5 6 7 8 9]\n",
      "arr_alice:\n",
      " [3 4 5]\n",
      "ls:\n",
      " [0, 1, 2, 3, 4, 5, 6, 7, 8, 9]\n",
      "ls_slice:\n",
      " [3, 4, 5]\n"
     ]
    }
   ],
   "source": [
    "#numpy\n",
    "arr = np.array(range(10))\n",
    "arr_slice = arr[3:6]\n",
    "print('arr:\\n',arr)\n",
    "print('arr_alice:\\n',arr_slice)\n",
    "#列表\n",
    "ls = list(range(10))\n",
    "ls_slice = ls[3:6]\n",
    "print('ls:\\n',ls)\n",
    "print('ls_slice:\\n',ls_slice)"
   ]
  },
  {
   "cell_type": "code",
   "execution_count": 36,
   "metadata": {},
   "outputs": [
    {
     "name": "stdout",
     "output_type": "stream",
     "text": [
      "arr:\n",
      " [    0     1     2 12345     4     5     6     7     8     9]\n",
      "arr_alice:\n",
      " [12345     4     5]\n",
      "ls:\n",
      " [0, 1, 2, 3, 4, 5, 6, 7, 8, 9]\n",
      "ls_slice:\n",
      " [12345, 4, 5]\n"
     ]
    }
   ],
   "source": [
    "arr_slice[0]= 12345\n",
    "ls_slice[0] = 12345\n",
    "print('arr:\\n',arr)\n",
    "print('arr_alice:\\n',arr_slice)\n",
    "print('ls:\\n',ls)\n",
    "print('ls_slice:\\n',ls_slice)"
   ]
  },
  {
   "cell_type": "markdown",
   "metadata": {},
   "source": [
    "切片[ : ]会给数组中的所有值赋值："
   ]
  },
  {
   "cell_type": "code",
   "execution_count": 37,
   "metadata": {},
   "outputs": [
    {
     "name": "stdout",
     "output_type": "stream",
     "text": [
      "arr:\n",
      " [0 1 2 0 0 0 6 7 8 9]\n",
      "arr_alice:\n",
      " [0 0 0]\n"
     ]
    }
   ],
   "source": [
    "arr_slice[:] = 0\n",
    "print('arr:\\n',arr)\n",
    "print('arr_alice:\\n',arr_slice)"
   ]
  },
  {
   "cell_type": "markdown",
   "metadata": {},
   "source": [
    "如果想要得到的是ndarray切片的一份副本，就需要进行复制操作copy()"
   ]
  },
  {
   "cell_type": "code",
   "execution_count": 38,
   "metadata": {},
   "outputs": [
    {
     "name": "stdout",
     "output_type": "stream",
     "text": [
      "arr:\n",
      " [0 1 2 3 4 5 6 7 8 9]\n",
      "arr_alice:\n",
      " [3 4 5]\n",
      "arr:\n",
      " [0 1 2 3 4 5 6 7 8 9]\n",
      "arr_alice:\n",
      " [0 0 0]\n"
     ]
    }
   ],
   "source": [
    "arr = np.array(range(10))\n",
    "arr_slice = arr[3:6].copy()\n",
    "print('arr:\\n',arr)\n",
    "print('arr_alice:\\n',arr_slice)\n",
    "arr_slice[:] = 0\n",
    "print('arr:\\n',arr)\n",
    "print('arr_alice:\\n',arr_slice)"
   ]
  },
  {
   "cell_type": "markdown",
   "metadata": {},
   "source": [
    "高维度数组:索引位置上的元素不再是标量而是一维数组"
   ]
  },
  {
   "cell_type": "code",
   "execution_count": 39,
   "metadata": {},
   "outputs": [
    {
     "name": "stdout",
     "output_type": "stream",
     "text": [
      "[2 3 4]\n"
     ]
    }
   ],
   "source": [
    "ls = [list(range(5)),list(range(5,10))]\n",
    "arr = np.array(ls)\n",
    "print(arr[0,2:])"
   ]
  },
  {
   "cell_type": "markdown",
   "metadata": {},
   "source": [
    "在多维数组中，如果省略了后面的索引，则返回对象会是一个维度低一点的ndarray"
   ]
  },
  {
   "cell_type": "code",
   "execution_count": 40,
   "metadata": {},
   "outputs": [
    {
     "name": "stdout",
     "output_type": "stream",
     "text": [
      "[[[ 1  2  3]\n",
      "  [ 4  5  6]]\n",
      "\n",
      " [[ 7  8  9]\n",
      "  [10 11 12]]]\n",
      "[[1 2 3]\n",
      " [4 5 6]]\n",
      "[1 2 3]\n",
      "1\n"
     ]
    }
   ],
   "source": [
    "arr3d = np.array([[[1, 2, 3], [4, 5, 6]], [[7, 8, 9], [10, 11, 12]]])\n",
    "print(arr3d)\n",
    "arr3d.shape\n",
    "print(arr3d[0])\n",
    "print(arr3d[0,0])\n",
    "print(arr3d[0,0,0])"
   ]
  },
  {
   "cell_type": "markdown",
   "metadata": {},
   "source": [
    "标量值和数组都可以被赋值给数组"
   ]
  },
  {
   "cell_type": "code",
   "execution_count": 41,
   "metadata": {},
   "outputs": [
    {
     "name": "stdout",
     "output_type": "stream",
     "text": [
      "[[[42 42 42]\n",
      "  [42 42 42]]\n",
      "\n",
      " [[ 7  8  9]\n",
      "  [10 11 12]]]\n",
      "===========分割线============\n",
      "[[[ 1  2  3]\n",
      "  [ 4  5  6]]\n",
      "\n",
      " [[ 7  8  9]\n",
      "  [10 11 12]]]\n"
     ]
    }
   ],
   "source": [
    "#将arr3d[0]的数据进行备份\n",
    "old_values = arr3d[0].copy()\n",
    "#修改arr3d[0]的值为42\n",
    "arr3d[0] = 42\n",
    "print(arr3d)\n",
    "print('===========分割线============')\n",
    "arr3d[0] = old_values\n",
    "print(arr3d)"
   ]
  },
  {
   "cell_type": "markdown",
   "metadata": {},
   "source": [
    "### g、布尔型索引"
   ]
  },
  {
   "cell_type": "code",
   "execution_count": 42,
   "metadata": {},
   "outputs": [
    {
     "name": "stdout",
     "output_type": "stream",
     "text": [
      "['a' 'b' 'c' 'd' 'e' 'f' 'g']\n",
      "[[-0.79151121 -0.13016484 -1.0609822   1.16067896]\n",
      " [-0.5813913  -2.42177945 -0.2964941   1.7495043 ]\n",
      " [ 0.94254716 -0.39216868 -1.69488846  0.04888326]\n",
      " [-0.96420395  0.82330884 -1.12783834  0.12025467]\n",
      " [ 0.88096024 -0.17940293  0.47441052 -0.25057357]\n",
      " [ 0.07643833 -1.20633853 -1.15822811  1.33534246]\n",
      " [ 0.40242716  0.36662169  0.05819316 -0.5386873 ]]\n"
     ]
    }
   ],
   "source": [
    "strs = np.array(['a', 'b', 'c', 'd', 'e', 'f', 'g'])\n",
    "data = np.random.randn(7, 4) #随机形成7*4的数组\n",
    "print(strs)\n",
    "print(data)"
   ]
  },
  {
   "cell_type": "markdown",
   "metadata": {},
   "source": [
    "假设每个字母都对应data数组中的一行，如何选出对应于字母'a'的所有行？"
   ]
  },
  {
   "cell_type": "code",
   "execution_count": 43,
   "metadata": {},
   "outputs": [
    {
     "name": "stdout",
     "output_type": "stream",
     "text": [
      "[ True False False False False False False]\n",
      "[[-0.79151121 -0.13016484 -1.0609822   1.16067896]]\n",
      "[[-1.0609822   1.16067896]]\n"
     ]
    }
   ],
   "source": [
    "print(strs == 'a')\n",
    "print(data[strs == 'a'])\n",
    "print(data[strs == 'a',2:])"
   ]
  },
  {
   "cell_type": "markdown",
   "metadata": {},
   "source": [
    "要选择'a'以外的其他值，既可以使用不等于符号（!=），也可以通过~对条件进行否定"
   ]
  },
  {
   "cell_type": "code",
   "execution_count": 44,
   "metadata": {},
   "outputs": [
    {
     "name": "stdout",
     "output_type": "stream",
     "text": [
      "[False  True  True  True  True  True  True]\n",
      "[[-0.5813913  -2.42177945 -0.2964941   1.7495043 ]\n",
      " [ 0.94254716 -0.39216868 -1.69488846  0.04888326]\n",
      " [-0.96420395  0.82330884 -1.12783834  0.12025467]\n",
      " [ 0.88096024 -0.17940293  0.47441052 -0.25057357]\n",
      " [ 0.07643833 -1.20633853 -1.15822811  1.33534246]\n",
      " [ 0.40242716  0.36662169  0.05819316 -0.5386873 ]]\n"
     ]
    }
   ],
   "source": [
    "print(strs != 'a')\n",
    "print(data[~(strs == 'a')])"
   ]
  },
  {
   "cell_type": "markdown",
   "metadata": {},
   "source": [
    "### h、数组转置和轴对换"
   ]
  },
  {
   "cell_type": "markdown",
   "metadata": {},
   "source": [
    "T:转置/轴反转；transpose：轴对换"
   ]
  },
  {
   "cell_type": "code",
   "execution_count": 45,
   "metadata": {},
   "outputs": [
    {
     "name": "stdout",
     "output_type": "stream",
     "text": [
      "arr:\n",
      " [[ 0  1  2  3  4]\n",
      " [ 5  6  7  8  9]\n",
      " [10 11 12 13 14]]\n",
      "arr.T:\n",
      " [[ 0  5 10]\n",
      " [ 1  6 11]\n",
      " [ 2  7 12]\n",
      " [ 3  8 13]\n",
      " [ 4  9 14]]\n",
      "arr.transpose((1,0)):\n",
      " [[ 0  5 10]\n",
      " [ 1  6 11]\n",
      " [ 2  7 12]\n",
      " [ 3  8 13]\n",
      " [ 4  9 14]]\n"
     ]
    }
   ],
   "source": [
    "arr = np.arange(15).reshape((3, 5))\n",
    "print('arr:\\n',arr)\n",
    "print('arr.T:\\n',arr.T)\n",
    "#这里transpose实际上是对shape按索引进行一次重新排序\n",
    "print('arr.transpose((1,0)):\\n',arr.transpose((1,0)))"
   ]
  },
  {
   "cell_type": "markdown",
   "metadata": {},
   "source": [
    "在进行矩阵计算时，经常需要用到该操作，比如利用np.dot计算矩阵内积"
   ]
  },
  {
   "cell_type": "code",
   "execution_count": 46,
   "metadata": {},
   "outputs": [
    {
     "name": "stdout",
     "output_type": "stream",
     "text": [
      "arr:\n",
      " [[-0.6165663  -0.17301843  1.0565788 ]\n",
      " [-0.76286167 -0.31140584  0.04644   ]\n",
      " [ 0.45112717 -0.36220175  1.4593615 ]\n",
      " [-1.08502013  0.72332201  0.00278254]\n",
      " [-0.79758154  1.47005547  0.84725135]\n",
      " [-0.20490548  0.41216422 -0.63137637]]\n",
      "dot_arr:\n",
      " [[ 3.02101891 -1.86092489 -0.57791924]\n",
      " [-1.86092489  3.11223624  0.26143583]\n",
      " [-0.57791924  0.26143583  4.36473015]]\n"
     ]
    }
   ],
   "source": [
    "arr = np.random.randn(6, 3)\n",
    "print ('arr:\\n',arr)\n",
    "print ('dot_arr:\\n',np.dot(arr.T, arr))"
   ]
  },
  {
   "cell_type": "markdown",
   "metadata": {},
   "source": [
    "对于高维数组，转置需要得到一个由轴编号组成的元组才能对这些轴进行转置"
   ]
  },
  {
   "cell_type": "code",
   "execution_count": 47,
   "metadata": {},
   "outputs": [
    {
     "name": "stdout",
     "output_type": "stream",
     "text": [
      "[[[ 0  1  2  3]\n",
      "  [ 4  5  6  7]]\n",
      "\n",
      " [[ 8  9 10 11]\n",
      "  [12 13 14 15]]]\n",
      "========================\n",
      "[[[ 0  1  2  3]\n",
      "  [ 8  9 10 11]]\n",
      "\n",
      " [[ 4  5  6  7]\n",
      "  [12 13 14 15]]]\n",
      "========================\n",
      "arr_T:\n",
      " [[[ 0  8]\n",
      "  [ 4 12]]\n",
      "\n",
      " [[ 1  9]\n",
      "  [ 5 13]]\n",
      "\n",
      " [[ 2 10]\n",
      "  [ 6 14]]\n",
      "\n",
      " [[ 3 11]\n",
      "  [ 7 15]]]\n"
     ]
    }
   ],
   "source": [
    "arr = np.arange(16).reshape((2, 2, 4))\n",
    "print(arr)\n",
    "print('========================')\n",
    "print(arr.transpose((1, 0, 2)))\n",
    "print('========================')\n",
    "print('arr_T:\\n',arr.T)"
   ]
  },
  {
   "cell_type": "markdown",
   "metadata": {},
   "source": [
    "## B、通用函数"
   ]
  },
  {
   "cell_type": "markdown",
   "metadata": {},
   "source": [
    "### b、二元函数"
   ]
  },
  {
   "cell_type": "code",
   "execution_count": 48,
   "metadata": {},
   "outputs": [
    {
     "name": "stdout",
     "output_type": "stream",
     "text": [
      "[0 1 2 3 4 5 6 7 8 9]\n",
      "[0.         1.         1.41421356 1.73205081 2.         2.23606798\n",
      " 2.44948974 2.64575131 2.82842712 3.        ]\n"
     ]
    }
   ],
   "source": [
    "arr = np.arange(10)\n",
    "print(arr)\n",
    "print(np.sqrt(arr))"
   ]
  },
  {
   "cell_type": "code",
   "execution_count": 49,
   "metadata": {},
   "outputs": [
    {
     "name": "stdout",
     "output_type": "stream",
     "text": [
      "x:\n",
      " [ 1.36682114  1.08955869 -1.33269932  1.24981006  0.43318182 -2.24903016\n",
      " -1.40757164  1.17680824]\n",
      "y:\n",
      " [-0.92070236 -1.36113052 -0.31987907 -0.88103292 -0.43373386  0.71688174\n",
      " -0.79435769  1.53332102]\n",
      "[ 1.36682114  1.08955869 -0.31987907  1.24981006  0.43318182  0.71688174\n",
      " -0.79435769  1.53332102]\n"
     ]
    }
   ],
   "source": [
    "x = np.random.randn(8)\n",
    "y = np.random.randn(8)\n",
    "print('x:\\n',x)\n",
    "print('y:\\n',y)\n",
    "print(np.maximum(x, y))"
   ]
  },
  {
   "cell_type": "markdown",
   "metadata": {},
   "source": [
    "## C、利用数组进行数据处理"
   ]
  },
  {
   "cell_type": "markdown",
   "metadata": {},
   "source": [
    "想要在一组值（网格型）上计算$sqrt(x^2+y^2)$"
   ]
  },
  {
   "cell_type": "code",
   "execution_count": 50,
   "metadata": {},
   "outputs": [
    {
     "name": "stdout",
     "output_type": "stream",
     "text": [
      "[[-5.   -4.99 -4.98 ...  4.97  4.98  4.99]\n",
      " [-5.   -4.99 -4.98 ...  4.97  4.98  4.99]\n",
      " [-5.   -4.99 -4.98 ...  4.97  4.98  4.99]\n",
      " ...\n",
      " [-5.   -4.99 -4.98 ...  4.97  4.98  4.99]\n",
      " [-5.   -4.99 -4.98 ...  4.97  4.98  4.99]\n",
      " [-5.   -4.99 -4.98 ...  4.97  4.98  4.99]]\n",
      "[[-5.   -5.   -5.   ... -5.   -5.   -5.  ]\n",
      " [-4.99 -4.99 -4.99 ... -4.99 -4.99 -4.99]\n",
      " [-4.98 -4.98 -4.98 ... -4.98 -4.98 -4.98]\n",
      " ...\n",
      " [ 4.97  4.97  4.97 ...  4.97  4.97  4.97]\n",
      " [ 4.98  4.98  4.98 ...  4.98  4.98  4.98]\n",
      " [ 4.99  4.99  4.99 ...  4.99  4.99  4.99]]\n"
     ]
    }
   ],
   "source": [
    "points = np.arange(-5, 5, 0.01) \n",
    "xs, ys = np.meshgrid(points, points) #生成网格型数据，接受两个一维数组生成两个二维矩阵\n",
    "print(xs)\n",
    "print(ys)"
   ]
  },
  {
   "cell_type": "code",
   "execution_count": 51,
   "metadata": {},
   "outputs": [
    {
     "name": "stdout",
     "output_type": "stream",
     "text": [
      "[[7.07106781 7.06400028 7.05693985 ... 7.04988652 7.05693985 7.06400028]\n",
      " [7.06400028 7.05692568 7.04985815 ... 7.04279774 7.04985815 7.05692568]\n",
      " [7.05693985 7.04985815 7.04278354 ... 7.03571603 7.04278354 7.04985815]\n",
      " ...\n",
      " [7.04988652 7.04279774 7.03571603 ... 7.0286414  7.03571603 7.04279774]\n",
      " [7.05693985 7.04985815 7.04278354 ... 7.03571603 7.04278354 7.04985815]\n",
      " [7.06400028 7.05692568 7.04985815 ... 7.04279774 7.04985815 7.05692568]]\n"
     ]
    }
   ],
   "source": [
    "z = np.sqrt(xs ** 2 + ys ** 2)\n",
    "print(z)"
   ]
  },
  {
   "cell_type": "markdown",
   "metadata": {},
   "source": [
    "### a、将条件逻辑表述为数组运算"
   ]
  },
  {
   "cell_type": "markdown",
   "metadata": {},
   "source": [
    "numpy.where函数是三元表达式x if condition else y的矢量化版本"
   ]
  },
  {
   "cell_type": "code",
   "execution_count": 52,
   "metadata": {},
   "outputs": [
    {
     "name": "stdout",
     "output_type": "stream",
     "text": [
      "[1.1, 2.2, 1.3, 1.4, 2.5]\n"
     ]
    }
   ],
   "source": [
    "xarr = np.array([1.1, 1.2, 1.3, 1.4, 1.5])\n",
    "yarr = np.array([2.1, 2.2, 2.3, 2.4, 2.5])\n",
    "cond = np.array([True, False, True, True, False])\n",
    "result = []\n",
    "for x,y,c in zip(xarr,yarr,cond):\n",
    "    if c:\n",
    "        result.append(x)\n",
    "    else:\n",
    "        result.append(y)\n",
    "print(result)"
   ]
  },
  {
   "cell_type": "code",
   "execution_count": 53,
   "metadata": {},
   "outputs": [
    {
     "name": "stdout",
     "output_type": "stream",
     "text": [
      "[1.1 2.2 1.3 1.4 2.5]\n"
     ]
    }
   ],
   "source": [
    "res = np.where(cond, xarr, yarr)\n",
    "print(res)"
   ]
  },
  {
   "cell_type": "markdown",
   "metadata": {},
   "source": [
    "np.where的第二个和第三个参数不必是数组，它们都可以是标量值，在数据分析工作中，where通常用于根据另一个数组而产生一个新的数组"
   ]
  },
  {
   "cell_type": "code",
   "execution_count": 54,
   "metadata": {},
   "outputs": [
    {
     "name": "stdout",
     "output_type": "stream",
     "text": [
      "[[-0.23584801 -0.94750973  0.10928306  0.39544099]\n",
      " [-0.05203375 -1.20393083 -1.3290124   0.6514226 ]\n",
      " [-0.00470393  2.69043775  0.41459335  0.09471023]\n",
      " [ 1.00877682 -0.54296457 -1.91897255 -0.26924904]]\n",
      "[[False False  True  True]\n",
      " [False False False  True]\n",
      " [False  True  True  True]\n",
      " [ True False False False]]\n",
      "[['-2' '-2' 'a' 'a']\n",
      " ['-2' '-2' '-2' 'a']\n",
      " ['-2' 'a' 'a' 'a']\n",
      " ['a' '-2' '-2' '-2']]\n"
     ]
    }
   ],
   "source": [
    "arr = np.random.randn(4, 4)\n",
    "print(arr)\n",
    "print(arr > 0)\n",
    "print(np.where(arr > 0, 'a', -2))"
   ]
  },
  {
   "cell_type": "markdown",
   "metadata": {},
   "source": [
    "使用np.where，可以将标量和数组结合起来"
   ]
  },
  {
   "cell_type": "code",
   "execution_count": 55,
   "metadata": {},
   "outputs": [
    {
     "name": "stdout",
     "output_type": "stream",
     "text": [
      "[[-0.23584801 -0.94750973  2.          2.        ]\n",
      " [-0.05203375 -1.20393083 -1.3290124   2.        ]\n",
      " [-0.00470393  2.          2.          2.        ]\n",
      " [ 2.         -0.54296457 -1.91897255 -0.26924904]]\n"
     ]
    }
   ],
   "source": [
    "print(np.where(arr > 0, 2, arr))"
   ]
  },
  {
   "cell_type": "markdown",
   "metadata": {},
   "source": [
    "### b、数学和统计方法"
   ]
  },
  {
   "cell_type": "markdown",
   "metadata": {},
   "source": [
    "通过数组上的一组数学函数对整个数组或某个轴向的数据进行统计计算 求和、平均值、方差、标准差、中位数：sum, mean/average, var, std, median"
   ]
  },
  {
   "cell_type": "code",
   "execution_count": 56,
   "metadata": {},
   "outputs": [
    {
     "name": "stdout",
     "output_type": "stream",
     "text": [
      "[[-0.5944898  -2.19389699  0.36065757 -0.3919238 ]\n",
      " [ 1.02045986 -1.10730014 -2.26042053 -0.74189185]\n",
      " [-0.5604077   1.42969744 -0.36038745 -0.45056563]\n",
      " [ 1.6472008  -0.69005456  0.44131405  0.22321446]\n",
      " [-0.93162426  0.30508815 -0.91173097  2.18000584]]\n",
      "-0.17935277544553846\n",
      "-0.17935277544553846\n",
      "-3.5870555089107694\n"
     ]
    }
   ],
   "source": [
    "arr = np.random.randn(5, 4)\n",
    "print(arr)\n",
    "print(arr.mean())\n",
    "print(np.mean(arr))\n",
    "print(arr.sum())"
   ]
  },
  {
   "cell_type": "markdown",
   "metadata": {},
   "source": [
    "axis选项参数，用于计算该轴向上的统计值；\n",
    "arr.mean(1)是“计算行的平均值”，arr.sum(0)是“计算每列的和”"
   ]
  },
  {
   "cell_type": "code",
   "execution_count": 57,
   "metadata": {},
   "outputs": [
    {
     "name": "stdout",
     "output_type": "stream",
     "text": [
      "[-0.70491326 -0.77228816  0.01458416  0.40541869  0.16043469]\n",
      "[ 0.5811389  -2.2564661  -2.73056733  0.81883902]\n"
     ]
    }
   ],
   "source": [
    "print(arr.mean(axis=1))\n",
    "print(arr.sum(axis=0))"
   ]
  },
  {
   "cell_type": "markdown",
   "metadata": {},
   "source": [
    "统计>0的数目"
   ]
  },
  {
   "cell_type": "code",
   "execution_count": 58,
   "metadata": {},
   "outputs": [
    {
     "name": "stdout",
     "output_type": "stream",
     "text": [
      "[-0.3536583  -0.35146388 -0.17161577  0.10993688  1.31163529 -0.19996976\n",
      " -1.00517353 -0.41450994  0.37008916  3.58555386]\n",
      "4\n"
     ]
    }
   ],
   "source": [
    "arr = np.random.randn(10)\n",
    "print(arr)\n",
    "print((arr > 0).sum())"
   ]
  },
  {
   "cell_type": "markdown",
   "metadata": {},
   "source": [
    "### c、排序"
   ]
  },
  {
   "cell_type": "markdown",
   "metadata": {},
   "source": [
    "numpy.sort() \n",
    "sort(a, axis=-1, kind=None, order=None) Return a sorted copy of an array."
   ]
  },
  {
   "cell_type": "code",
   "execution_count": 59,
   "metadata": {},
   "outputs": [
    {
     "name": "stdout",
     "output_type": "stream",
     "text": [
      "a:\n",
      " [[3 7]\n",
      " [9 1]]\n",
      "*********\n",
      "[[3 7]\n",
      " [1 9]]\n",
      "*********\n",
      "[[3 1]\n",
      " [9 7]]\n",
      "**********\n",
      "a:\n",
      " [(b'raju', 21) (b'anil', 25) (b'ravi', 17) (b'amar', 27)]\n",
      "***********\n",
      "[(b'ravi', 17) (b'raju', 21) (b'anil', 25) (b'amar', 27)]\n"
     ]
    }
   ],
   "source": [
    "a = np.array([[3,7],[9,1]])  \n",
    "print ('a:\\n',a)  \n",
    "print('*********')\n",
    "print (np.sort(a))  \n",
    "print ('*********')   \n",
    "print (np.sort(a, axis =  0))  \n",
    "print ('**********')  \n",
    "\n",
    "dt = np.dtype([('name',  'S10'),('age',  int)]) \n",
    "a = np.array([(\"raju\",21),(\"anil\",25),(\"ravi\",  17),  (\"amar\",27)], dtype = dt)  \n",
    "print ('a:\\n',a) \n",
    "print('***********')\n",
    "print (np.sort(a, order =  'age'))"
   ]
  },
  {
   "cell_type": "markdown",
   "metadata": {},
   "source": [
    "numpy.argsort()，返回数据的索引数组"
   ]
  },
  {
   "cell_type": "code",
   "execution_count": 60,
   "metadata": {},
   "outputs": [
    {
     "name": "stdout",
     "output_type": "stream",
     "text": [
      "[[ 1.63515779  1.32208129 -1.79711713]\n",
      " [-1.13692836 -0.3961067   0.90571696]\n",
      " [ 1.4191196   0.14644551 -2.11262576]\n",
      " [-0.41075034  0.27436949  0.75372514]\n",
      " [ 0.91990093 -0.31968367  0.12835899]]\n",
      "***********\n",
      "[[-1.79711713  1.32208129  1.63515779]\n",
      " [-1.13692836 -0.3961067   0.90571696]\n",
      " [-2.11262576  0.14644551  1.4191196 ]\n",
      " [-0.41075034  0.27436949  0.75372514]\n",
      " [-0.31968367  0.12835899  0.91990093]]\n"
     ]
    }
   ],
   "source": [
    "arr = np.random.randn(5, 3)\n",
    "print(arr)\n",
    "print('***********')\n",
    "arr.sort(1)\n",
    "print(arr)"
   ]
  },
  {
   "cell_type": "code",
   "execution_count": 61,
   "metadata": {},
   "outputs": [
    {
     "name": "stdout",
     "output_type": "stream",
     "text": [
      "[[-0.83525328 -1.04769271 -0.98462664]\n",
      " [-0.34232608  1.24136219 -0.62242972]\n",
      " [ 0.39965773 -0.17980487 -2.95466246]\n",
      " [ 0.71945914  0.31764147  0.01902174]\n",
      " [-0.67832452 -1.51090291  0.71032102]]\n",
      "***********\n"
     ]
    },
    {
     "data": {
      "text/plain": [
       "array([[1, 2, 0],\n",
       "       [2, 0, 1],\n",
       "       [2, 1, 0],\n",
       "       [2, 1, 0],\n",
       "       [1, 0, 2]], dtype=int64)"
      ]
     },
     "execution_count": 61,
     "metadata": {},
     "output_type": "execute_result"
    }
   ],
   "source": [
    "arr = np.random.randn(5, 3)\n",
    "print(arr)\n",
    "print('***********')\n",
    "arr.argsort(1)"
   ]
  },
  {
   "cell_type": "markdown",
   "metadata": {},
   "source": [
    "## D、伪随机数生成"
   ]
  },
  {
   "cell_type": "markdown",
   "metadata": {},
   "source": [
    "生成标准正态分布"
   ]
  },
  {
   "cell_type": "code",
   "execution_count": 62,
   "metadata": {},
   "outputs": [
    {
     "name": "stdout",
     "output_type": "stream",
     "text": [
      "[[ 7.47027878e-01 -1.46209233e+00 -4.86176124e-01  1.70507324e-01]\n",
      " [-1.08210503e+00  8.77217299e-02  2.49710420e-02  6.20504732e-01]\n",
      " [ 1.34422159e+00  7.10407643e-01  3.07375476e-01 -1.10634373e+00]\n",
      " [ 9.58361158e-02  9.42660516e-04 -6.17090610e-01 -1.78204763e+00]]\n"
     ]
    }
   ],
   "source": [
    "samples = np.random.normal(size=(4, 4))\n",
    "print(samples)"
   ]
  },
  {
   "cell_type": "markdown",
   "metadata": {},
   "source": [
    "python randam模块一次生成一个样本"
   ]
  },
  {
   "cell_type": "code",
   "execution_count": 63,
   "metadata": {},
   "outputs": [
    {
     "name": "stdout",
     "output_type": "stream",
     "text": [
      "676 ms ± 14.9 ms per loop (mean ± std. dev. of 7 runs, 1 loop each)\n",
      "24.9 ms ± 91.6 µs per loop (mean ± std. dev. of 7 runs, 10 loops each)\n"
     ]
    }
   ],
   "source": [
    "from random import normalvariate\n",
    "N = 1000000\n",
    "%timeit samples = [normalvariate(0, 1) for _ in range(N)]\n",
    "%timeit np.random.normal(size=N)"
   ]
  },
  {
   "cell_type": "code",
   "execution_count": null,
   "metadata": {
    "collapsed": true
   },
   "outputs": [],
   "source": []
  }
 ],
 "metadata": {
  "kernelspec": {
   "display_name": "Python [conda env:pytorch]",
   "language": "python",
   "name": "conda-env-pytorch-py"
  },
  "language_info": {
   "codemirror_mode": {
    "name": "ipython",
    "version": 3
   },
   "file_extension": ".py",
   "mimetype": "text/x-python",
   "name": "python",
   "nbconvert_exporter": "python",
   "pygments_lexer": "ipython3",
   "version": "3.6.10"
  }
 },
 "nbformat": 4,
 "nbformat_minor": 2
}
