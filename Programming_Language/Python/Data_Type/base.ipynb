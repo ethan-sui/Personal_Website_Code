{
 "cells": [
  {
   "cell_type": "markdown",
   "metadata": {},
   "source": [
    "# A、标准数据类型"
   ]
  },
  {
   "cell_type": "markdown",
   "metadata": {},
   "source": [
    "## c、列表"
   ]
  },
  {
   "cell_type": "markdown",
   "metadata": {},
   "source": [
    "创建列表"
   ]
  },
  {
   "cell_type": "code",
   "execution_count": null,
   "metadata": {
    "scrolled": false
   },
   "outputs": [],
   "source": [
    "list_1 = list()\n",
    "list_1 = []\n",
    "list_1 = [1, 1.2, \"apple\", 0.001]\n",
    "print(list_1)\n",
    "#查看数据类型\n",
    "type(list_1)"
   ]
  },
  {
   "cell_type": "markdown",
   "metadata": {},
   "source": [
    "访问列表值 list[index]"
   ]
  },
  {
   "cell_type": "code",
   "execution_count": null,
   "metadata": {},
   "outputs": [],
   "source": [
    "print(list_1[0])"
   ]
  },
  {
   "cell_type": "markdown",
   "metadata": {},
   "source": [
    "切片list[first_index:last_index]"
   ]
  },
  {
   "cell_type": "code",
   "execution_count": null,
   "metadata": {},
   "outputs": [],
   "source": [
    "print(list_1[:])    #全部\n",
    "print(list_1[1:3])  #第2与第3\n",
    "print(list_1[2:])   #第3个开始后面的全部"
   ]
  },
  {
   "cell_type": "markdown",
   "metadata": {},
   "source": [
    "python脚本操作符"
   ]
  },
  {
   "cell_type": "code",
   "execution_count": null,
   "metadata": {},
   "outputs": [],
   "source": [
    "print([1,2,3] + [4,5])\n",
    "print([1] * 5)"
   ]
  },
  {
   "cell_type": "markdown",
   "metadata": {},
   "source": [
    "列表函数 fun(list)"
   ]
  },
  {
   "cell_type": "code",
   "execution_count": null,
   "metadata": {},
   "outputs": [],
   "source": [
    "print(len(list_1))\n",
    "print(max([1,5,6]))\n",
    "print(min([1,-1,6]))"
   ]
  },
  {
   "cell_type": "markdown",
   "metadata": {},
   "source": [
    "列表方法"
   ]
  },
  {
   "cell_type": "code",
   "execution_count": null,
   "metadata": {},
   "outputs": [],
   "source": [
    "list_1.append(\"src\")\n",
    "print(list_1)\n",
    "#统计列表中\"src\"的个数\n",
    "print(list_1.count(\"src\"))  \n",
    "#在列表list_1结尾添加另一个列表的元素\n",
    "list_1.extend([1,2,3])   \n",
    "print(list_1)\n",
    "#从列表种找到\"src\"第一个匹配项的索引值\n",
    "print(list_1.index(\"src\"))   \n",
    "#在索引为2的位置插入元素\"src\"\n",
    "list_1.insert(2,\"src\")     \n",
    "print(list_1)\n",
    "#默认移除列表中最后一个元素，也可以指定索引，移除指定元素\n",
    "print(list_1.pop())     \n",
    "#移除列表中第一个\"src\"\n",
    "list_1.remove(\"src\")  \n",
    "print(list_1)\n",
    "# PS:pop()移除索引位置对应元素，返回该元素值，remove()移除列表中第一个匹配元素，没有返回值\n",
    "#把列表倒序\n",
    "list_1.reverse()\n",
    "print(list_1)\n",
    "list_sort = [4, 6, 8, 2, 1]\n",
    "#把列表元素按从小到大排序\n",
    "list_sort.sort() \n",
    "print(list_sort)"
   ]
  },
  {
   "cell_type": "markdown",
   "metadata": {},
   "source": [
    "## d、元组"
   ]
  },
  {
   "cell_type": "markdown",
   "metadata": {},
   "source": [
    "创建元组"
   ]
  },
  {
   "cell_type": "code",
   "execution_count": null,
   "metadata": {},
   "outputs": [],
   "source": [
    "tup = tuple()            #空元组\n",
    "tup = ()                 #空元组\n",
    "tup = (1,)               #创建只包含一个元素的元组，注意要有逗号\n",
    "tup = (1, \"apple\", 5)    #多元素元组\n",
    "print(tup)"
   ]
  },
  {
   "cell_type": "markdown",
   "metadata": {},
   "source": [
    "获取元素值"
   ]
  },
  {
   "cell_type": "code",
   "execution_count": null,
   "metadata": {},
   "outputs": [],
   "source": [
    "print(tup[0])\n",
    "print(tup[1:2])"
   ]
  },
  {
   "cell_type": "markdown",
   "metadata": {},
   "source": [
    "元组操作"
   ]
  },
  {
   "cell_type": "code",
   "execution_count": null,
   "metadata": {},
   "outputs": [],
   "source": [
    "tup1 = (1,)               #创建只包含一个元素的元组，注意要有逗号\n",
    "tup2 = (1, \"apple\", 5) \n",
    "tup3 = tup1 + tup2    #元组拼接\n",
    "print(tup3)\n",
    "del(tup3)             #删除元组"
   ]
  },
  {
   "cell_type": "markdown",
   "metadata": {},
   "source": [
    "## e、字典"
   ]
  },
  {
   "cell_type": "markdown",
   "metadata": {},
   "source": [
    "创建字典"
   ]
  },
  {
   "cell_type": "code",
   "execution_count": null,
   "metadata": {},
   "outputs": [],
   "source": [
    "dict_ = dict()\n",
    "dict_ = {}\n",
    "dict_ = {\"name\":\"张三\", \"age\":16}\n",
    "print(dict_)"
   ]
  },
  {
   "cell_type": "markdown",
   "metadata": {},
   "source": [
    "获取字典值"
   ]
  },
  {
   "cell_type": "code",
   "execution_count": null,
   "metadata": {},
   "outputs": [],
   "source": [
    "print(dict_[\"age\"])"
   ]
  },
  {
   "cell_type": "markdown",
   "metadata": {},
   "source": [
    "修改字典"
   ]
  },
  {
   "cell_type": "code",
   "execution_count": null,
   "metadata": {},
   "outputs": [],
   "source": [
    "dict_[\"age\"] = 25         #更新键\"age\"的值为25\n",
    "dict_[\"hobby\"] = \"eat\"    #增加一个新的键值对\n",
    "print(dict_)\n",
    "del dict_[\"hobby\"]       #删除\"hobby\"键值对\n",
    "print(dict_)"
   ]
  },
  {
   "cell_type": "markdown",
   "metadata": {},
   "source": [
    "字典内置函数"
   ]
  },
  {
   "cell_type": "code",
   "execution_count": null,
   "metadata": {},
   "outputs": [],
   "source": [
    "print(len(dict_))        #输出键值对的数目\n",
    "print(list(dict_))       #以列表形式输出所有键\n",
    "print(str(dict_))        #输出字典可打印的字符串表示，返回字符串类型"
   ]
  },
  {
   "cell_type": "markdown",
   "metadata": {},
   "source": [
    "## f、集合"
   ]
  },
  {
   "cell_type": "markdown",
   "metadata": {},
   "source": [
    "创建集合"
   ]
  },
  {
   "cell_type": "code",
   "execution_count": null,
   "metadata": {},
   "outputs": [],
   "source": [
    "s = {\"00\", \"11\", \"00\"}    #集合可自动去重，注意创建空列表必须用set()\n",
    "print(s)\n",
    "a = set(\"asdwefaf\")\n",
    "b = set(\"segvfdvsaa\")\n",
    "print(a-b)               #输出从a中去除掉a与b的交集\n",
    "print(a | b)             #输出a与b的并集\n",
    "print(a & b)             #输出a与b的交集"
   ]
  },
  {
   "cell_type": "markdown",
   "metadata": {},
   "source": [
    "插入元素"
   ]
  },
  {
   "cell_type": "code",
   "execution_count": null,
   "metadata": {
    "scrolled": true
   },
   "outputs": [],
   "source": [
    "s.add(\"apple\")                          #添加一个元素\n",
    "print(s)\n",
    "s.update([1,2,3])                         #添加多个元素\n",
    "print(s)\n",
    "s.update([1, 2], [\"d3wdfw\", \"dqdq\"])    #添加是列表中的每一个元素\n",
    "print(s)"
   ]
  },
  {
   "cell_type": "markdown",
   "metadata": {},
   "source": [
    "移除元素"
   ]
  },
  {
   "cell_type": "code",
   "execution_count": null,
   "metadata": {},
   "outputs": [],
   "source": [
    "#当删除的元素不存在的时候，remove会报错，discard不会报错\n",
    "#s.remove(\"apple\")\n",
    "#print(s)\n",
    "s.discard(\"pear\")\n",
    "print(s)\n",
    "s.pop()    #随机删除元素\n",
    "print(s)"
   ]
  }
 ],
 "metadata": {
  "kernelspec": {
   "display_name": "Python [conda env:pytorch]",
   "language": "python",
   "name": "conda-env-pytorch-py"
  },
  "language_info": {
   "codemirror_mode": {
    "name": "ipython",
    "version": 3
   },
   "file_extension": ".py",
   "mimetype": "text/x-python",
   "name": "python",
   "nbconvert_exporter": "python",
   "pygments_lexer": "ipython3",
   "version": "3.6.10"
  }
 },
 "nbformat": 4,
 "nbformat_minor": 2
}
