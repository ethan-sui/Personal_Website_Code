{
 "cells": [
  {
   "cell_type": "markdown",
   "metadata": {},
   "source": [
    "## 一、非比较类"
   ]
  },
  {
   "cell_type": "markdown",
   "metadata": {},
   "source": [
    "### A、交换排序"
   ]
  },
  {
   "cell_type": "markdown",
   "metadata": {},
   "source": [
    "#### a、冒泡排序"
   ]
  },
  {
   "cell_type": "code",
   "execution_count": 3,
   "metadata": {
    "collapsed": true
   },
   "outputs": [],
   "source": [
    "def bubble_sort(List):\n",
    "    n = len(List)\n",
    "    for i in range(n):\n",
    "        for j in range(0, n-i-1):\n",
    "            if List[j] > List[j+1]:\n",
    "                List[j], List[j+1] = List[j+1], List[j]\n",
    "    return List"
   ]
  },
  {
   "cell_type": "code",
   "execution_count": 4,
   "metadata": {},
   "outputs": [
    {
     "name": "stdout",
     "output_type": "stream",
     "text": [
      "[1, 2, 3, 4, 6, 6, 7, 8, 9]\n"
     ]
    }
   ],
   "source": [
    "arr = [1, 6, 9, 8, 2, 6, 7, 4, 3]\n",
    "print(bubble_sort(arr))"
   ]
  },
  {
   "cell_type": "markdown",
   "metadata": {
    "collapsed": true
   },
   "source": [
    "#### b、快速排序"
   ]
  },
  {
   "cell_type": "code",
   "execution_count": 13,
   "metadata": {
    "collapsed": true
   },
   "outputs": [],
   "source": [
    "def partition(List, start, end):\n",
    "    i = start\n",
    "    pivot = List[end]\n",
    "    for j in range(start, end):\n",
    "        if List[j] <= pivot:\n",
    "            List[i], List[j] = List[j], List[i]\n",
    "            i += 1\n",
    "    List[i], List[end] = List[end], List[i]\n",
    "    \n",
    "    return i\n",
    "\n",
    "def quick_sort(List, start, end):\n",
    "    if start < end:\n",
    "        middle = partition(List, start, end)\n",
    "        \n",
    "        quick_sort(List, start, middle-1)\n",
    "        quick_sort(List, middle+1, end)\n",
    "    return List"
   ]
  },
  {
   "cell_type": "code",
   "execution_count": 15,
   "metadata": {},
   "outputs": [
    {
     "name": "stdout",
     "output_type": "stream",
     "text": [
      "[1, 2, 6, 6, 7, 8, 8, 9, 9]\n"
     ]
    }
   ],
   "source": [
    "arr = [1, 6, 9, 8, 2, 6, 7, 8, 9]\n",
    "n = len(arr)\n",
    "print(quick_sort(arr, 0, n-1))"
   ]
  },
  {
   "cell_type": "code",
   "execution_count": null,
   "metadata": {
    "collapsed": true
   },
   "outputs": [],
   "source": []
  }
 ],
 "metadata": {
  "kernelspec": {
   "display_name": "Python [conda env:pytorch]",
   "language": "python",
   "name": "conda-env-pytorch-py"
  },
  "language_info": {
   "codemirror_mode": {
    "name": "ipython",
    "version": 3
   },
   "file_extension": ".py",
   "mimetype": "text/x-python",
   "name": "python",
   "nbconvert_exporter": "python",
   "pygments_lexer": "ipython3",
   "version": "3.6.10"
  }
 },
 "nbformat": 4,
 "nbformat_minor": 2
}
