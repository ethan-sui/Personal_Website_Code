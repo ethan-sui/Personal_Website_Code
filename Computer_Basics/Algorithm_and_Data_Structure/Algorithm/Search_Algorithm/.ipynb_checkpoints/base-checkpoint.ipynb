{
 "cells": [
  {
   "cell_type": "markdown",
   "metadata": {},
   "source": [
    "## 一、非比较类"
   ]
  },
  {
   "cell_type": "markdown",
   "metadata": {},
   "source": [
    "### A、交换排序"
   ]
  },
  {
   "cell_type": "markdown",
   "metadata": {},
   "source": [
    "#### a、冒泡排序"
   ]
  },
  {
   "cell_type": "code",
   "execution_count": 3,
   "metadata": {
    "collapsed": true
   },
   "outputs": [],
   "source": [
    "def bubble_sort(List):\n",
    "    n = len(List)\n",
    "    for i in range(n):\n",
    "        for j in range(0, n-i-1):\n",
    "            if List[j] > List[j+1]:\n",
    "                List[j], List[j+1] = List[j+1], List[j]\n",
    "    return List"
   ]
  },
  {
   "cell_type": "code",
   "execution_count": 4,
   "metadata": {},
   "outputs": [
    {
     "name": "stdout",
     "output_type": "stream",
     "text": [
      "[1, 2, 3, 4, 6, 6, 7, 8, 9]\n"
     ]
    }
   ],
   "source": [
    "arr = [1, 6, 9, 8, 2, 6, 7, 4, 3]\n",
    "print(bubble_sort(arr))"
   ]
  },
  {
   "cell_type": "code",
   "execution_count": null,
   "metadata": {
    "collapsed": true
   },
   "outputs": [],
   "source": []
  }
 ],
 "metadata": {
  "kernelspec": {
   "display_name": "Python [conda env:pytorch]",
   "language": "python",
   "name": "conda-env-pytorch-py"
  },
  "language_info": {
   "codemirror_mode": {
    "name": "ipython",
    "version": 3
   },
   "file_extension": ".py",
   "mimetype": "text/x-python",
   "name": "python",
   "nbconvert_exporter": "python",
   "pygments_lexer": "ipython3",
   "version": "3.6.10"
  }
 },
 "nbformat": 4,
 "nbformat_minor": 2
}
